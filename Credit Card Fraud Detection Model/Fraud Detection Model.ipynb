{
 "cells": [
  {
   "cell_type": "markdown",
   "id": "d4da57e0",
   "metadata": {},
   "source": [
    "# Credit Card Fraud Detection Model\n",
    "**Using data from Synthetic E-commerce Electronics Sales Data available on DataFabrica.** \n",
    "\n",
    "The data contains synthetic ecommerce sales data for different electronic products such as phones, tablets, and laptops."
   ]
  },
  {
   "cell_type": "code",
   "execution_count": 1,
   "id": "47349ca4",
   "metadata": {},
   "outputs": [],
   "source": [
    "import numpy as np\n",
    "import pandas as pd\n",
    "from scipy import stats\n",
    "from collections import Counter"
   ]
  },
  {
   "cell_type": "markdown",
   "id": "f778c6e1",
   "metadata": {},
   "source": [
    "## Prepare Data"
   ]
  },
  {
   "cell_type": "code",
   "execution_count": 2,
   "id": "06b3f979",
   "metadata": {},
   "outputs": [
    {
     "data": {
      "text/html": [
       "<div>\n",
       "<style scoped>\n",
       "    .dataframe tbody tr th:only-of-type {\n",
       "        vertical-align: middle;\n",
       "    }\n",
       "\n",
       "    .dataframe tbody tr th {\n",
       "        vertical-align: top;\n",
       "    }\n",
       "\n",
       "    .dataframe thead th {\n",
       "        text-align: right;\n",
       "    }\n",
       "</style>\n",
       "<table border=\"1\" class=\"dataframe\">\n",
       "  <thead>\n",
       "    <tr style=\"text-align: right;\">\n",
       "      <th></th>\n",
       "      <th>transaction_id</th>\n",
       "      <th>transaction_date</th>\n",
       "      <th>card_number</th>\n",
       "      <th>card_type</th>\n",
       "      <th>merchant_name</th>\n",
       "      <th>merchant_category</th>\n",
       "      <th>merchant_state</th>\n",
       "      <th>merchant_city</th>\n",
       "      <th>transaction_status</th>\n",
       "      <th>transaction_amount</th>\n",
       "      <th>merchant_category_code</th>\n",
       "      <th>fraud_flag</th>\n",
       "      <th>cardholder_name</th>\n",
       "      <th>items</th>\n",
       "      <th>prices</th>\n",
       "    </tr>\n",
       "  </thead>\n",
       "  <tbody>\n",
       "    <tr>\n",
       "      <th>0</th>\n",
       "      <td>1ANBFI-TOFZ-J1FHXR</td>\n",
       "      <td>2023-02-17 07:16</td>\n",
       "      <td>4318249446099857</td>\n",
       "      <td>visa</td>\n",
       "      <td>Subway</td>\n",
       "      <td>Fast Food</td>\n",
       "      <td>New Hampshire</td>\n",
       "      <td>Manchester</td>\n",
       "      <td>Declined</td>\n",
       "      <td>6.59</td>\n",
       "      <td>MCC 5814</td>\n",
       "      <td>0</td>\n",
       "      <td>James Lee</td>\n",
       "      <td>['Italian BMT']</td>\n",
       "      <td>[6.59]</td>\n",
       "    </tr>\n",
       "    <tr>\n",
       "      <th>1</th>\n",
       "      <td>UIF4NV-FC9E-XKCNBG</td>\n",
       "      <td>2023-03-22 17:22</td>\n",
       "      <td>4101211350337682</td>\n",
       "      <td>visa</td>\n",
       "      <td>Subway</td>\n",
       "      <td>Fast Food</td>\n",
       "      <td>New Hampshire</td>\n",
       "      <td>Nashua</td>\n",
       "      <td>Declined</td>\n",
       "      <td>6.59</td>\n",
       "      <td>MCC 5814</td>\n",
       "      <td>0</td>\n",
       "      <td>Gabriella Hicks</td>\n",
       "      <td>['Italian BMT']</td>\n",
       "      <td>[6.59]</td>\n",
       "    </tr>\n",
       "    <tr>\n",
       "      <th>2</th>\n",
       "      <td>75UXRX-LGYI-JC802K</td>\n",
       "      <td>2023-06-14 16:49</td>\n",
       "      <td>4436281502955562</td>\n",
       "      <td>visa</td>\n",
       "      <td>Subway</td>\n",
       "      <td>Fast Food</td>\n",
       "      <td>Maine</td>\n",
       "      <td>Lewiston</td>\n",
       "      <td>Successful</td>\n",
       "      <td>6.59</td>\n",
       "      <td>MCC 5814</td>\n",
       "      <td>0</td>\n",
       "      <td>Mr. Eduardo Ford</td>\n",
       "      <td>['Italian BMT']</td>\n",
       "      <td>[6.59]</td>\n",
       "    </tr>\n",
       "    <tr>\n",
       "      <th>3</th>\n",
       "      <td>3D1LES-NSWC-UGGOMS</td>\n",
       "      <td>2023-03-23 07:13</td>\n",
       "      <td>4426321457580551</td>\n",
       "      <td>visa</td>\n",
       "      <td>Subway</td>\n",
       "      <td>Fast Food</td>\n",
       "      <td>Georgia</td>\n",
       "      <td>Augusta</td>\n",
       "      <td>Declined</td>\n",
       "      <td>13.08</td>\n",
       "      <td>MCC 5814</td>\n",
       "      <td>0</td>\n",
       "      <td>Justin Francis</td>\n",
       "      <td>['Italian BMT', 'Oven Roasted Chicken']</td>\n",
       "      <td>[6.59, 6.49]</td>\n",
       "    </tr>\n",
       "    <tr>\n",
       "      <th>4</th>\n",
       "      <td>8G8LEE-313G-XFTWHT</td>\n",
       "      <td>2023-03-13 22:42</td>\n",
       "      <td>4947626214893547</td>\n",
       "      <td>visa</td>\n",
       "      <td>Subway</td>\n",
       "      <td>Fast Food</td>\n",
       "      <td>New Hampshire</td>\n",
       "      <td>Nashua</td>\n",
       "      <td>Pending</td>\n",
       "      <td>6.59</td>\n",
       "      <td>MCC 5814</td>\n",
       "      <td>0</td>\n",
       "      <td>Sara Reese</td>\n",
       "      <td>['Italian BMT']</td>\n",
       "      <td>[6.59]</td>\n",
       "    </tr>\n",
       "  </tbody>\n",
       "</table>\n",
       "</div>"
      ],
      "text/plain": [
       "       transaction_id  transaction_date       card_number card_type  \\\n",
       "0  1ANBFI-TOFZ-J1FHXR  2023-02-17 07:16  4318249446099857      visa   \n",
       "1  UIF4NV-FC9E-XKCNBG  2023-03-22 17:22  4101211350337682      visa   \n",
       "2  75UXRX-LGYI-JC802K  2023-06-14 16:49  4436281502955562      visa   \n",
       "3  3D1LES-NSWC-UGGOMS  2023-03-23 07:13  4426321457580551      visa   \n",
       "4  8G8LEE-313G-XFTWHT  2023-03-13 22:42  4947626214893547      visa   \n",
       "\n",
       "  merchant_name merchant_category merchant_state merchant_city  \\\n",
       "0        Subway         Fast Food  New Hampshire    Manchester   \n",
       "1        Subway         Fast Food  New Hampshire        Nashua   \n",
       "2        Subway         Fast Food          Maine      Lewiston   \n",
       "3        Subway         Fast Food        Georgia       Augusta   \n",
       "4        Subway         Fast Food  New Hampshire        Nashua   \n",
       "\n",
       "  transaction_status  transaction_amount merchant_category_code  fraud_flag  \\\n",
       "0           Declined                6.59               MCC 5814           0   \n",
       "1           Declined                6.59               MCC 5814           0   \n",
       "2         Successful                6.59               MCC 5814           0   \n",
       "3           Declined               13.08               MCC 5814           0   \n",
       "4            Pending                6.59               MCC 5814           0   \n",
       "\n",
       "    cardholder_name                                    items        prices  \n",
       "0         James Lee                          ['Italian BMT']        [6.59]  \n",
       "1   Gabriella Hicks                          ['Italian BMT']        [6.59]  \n",
       "2  Mr. Eduardo Ford                          ['Italian BMT']        [6.59]  \n",
       "3    Justin Francis  ['Italian BMT', 'Oven Roasted Chicken']  [6.59, 6.49]  \n",
       "4        Sara Reese                          ['Italian BMT']        [6.59]  "
      ]
     },
     "execution_count": 2,
     "metadata": {},
     "output_type": "execute_result"
    }
   ],
   "source": [
    "df = pd.read_csv(r\"C:\\Users\\arich\\Desktop\\PY/\\raw_data\\fraud_detection_data.csv\")\n",
    "df.head(5)"
   ]
  },
  {
   "cell_type": "code",
   "execution_count": 3,
   "id": "4195fdb5",
   "metadata": {},
   "outputs": [
    {
     "name": "stdout",
     "output_type": "stream",
     "text": [
      "<class 'pandas.core.frame.DataFrame'>\n",
      "RangeIndex: 1743 entries, 0 to 1742\n",
      "Data columns (total 15 columns):\n",
      " #   Column                  Non-Null Count  Dtype  \n",
      "---  ------                  --------------  -----  \n",
      " 0   transaction_id          1743 non-null   object \n",
      " 1   transaction_date        1743 non-null   object \n",
      " 2   card_number             1743 non-null   int64  \n",
      " 3   card_type               1743 non-null   object \n",
      " 4   merchant_name           1743 non-null   object \n",
      " 5   merchant_category       1743 non-null   object \n",
      " 6   merchant_state          1743 non-null   object \n",
      " 7   merchant_city           1743 non-null   object \n",
      " 8   transaction_status      1743 non-null   object \n",
      " 9   transaction_amount      1743 non-null   float64\n",
      " 10  merchant_category_code  1743 non-null   object \n",
      " 11  fraud_flag              1743 non-null   int64  \n",
      " 12  cardholder_name         1743 non-null   object \n",
      " 13  items                   1743 non-null   object \n",
      " 14  prices                  1743 non-null   object \n",
      "dtypes: float64(1), int64(2), object(12)\n",
      "memory usage: 204.4+ KB\n"
     ]
    }
   ],
   "source": [
    "df.info()"
   ]
  },
  {
   "cell_type": "code",
   "execution_count": 4,
   "id": "ccafcdba",
   "metadata": {},
   "outputs": [],
   "source": [
    "# make card number a string\n",
    "df['card_number'] = df['card_number'].astype(str)"
   ]
  },
  {
   "cell_type": "code",
   "execution_count": 5,
   "id": "ad7aed9b",
   "metadata": {},
   "outputs": [
    {
     "data": {
      "text/html": [
       "<div>\n",
       "<style scoped>\n",
       "    .dataframe tbody tr th:only-of-type {\n",
       "        vertical-align: middle;\n",
       "    }\n",
       "\n",
       "    .dataframe tbody tr th {\n",
       "        vertical-align: top;\n",
       "    }\n",
       "\n",
       "    .dataframe thead th {\n",
       "        text-align: right;\n",
       "    }\n",
       "</style>\n",
       "<table border=\"1\" class=\"dataframe\">\n",
       "  <thead>\n",
       "    <tr style=\"text-align: right;\">\n",
       "      <th></th>\n",
       "      <th>transaction_amount</th>\n",
       "      <th>fraud_flag</th>\n",
       "    </tr>\n",
       "  </thead>\n",
       "  <tbody>\n",
       "    <tr>\n",
       "      <th>count</th>\n",
       "      <td>1743.000000</td>\n",
       "      <td>1743.000000</td>\n",
       "    </tr>\n",
       "    <tr>\n",
       "      <th>mean</th>\n",
       "      <td>8.327040</td>\n",
       "      <td>0.026391</td>\n",
       "    </tr>\n",
       "    <tr>\n",
       "      <th>std</th>\n",
       "      <td>5.127765</td>\n",
       "      <td>0.160342</td>\n",
       "    </tr>\n",
       "    <tr>\n",
       "      <th>min</th>\n",
       "      <td>6.590000</td>\n",
       "      <td>0.000000</td>\n",
       "    </tr>\n",
       "    <tr>\n",
       "      <th>25%</th>\n",
       "      <td>6.590000</td>\n",
       "      <td>0.000000</td>\n",
       "    </tr>\n",
       "    <tr>\n",
       "      <th>50%</th>\n",
       "      <td>6.590000</td>\n",
       "      <td>0.000000</td>\n",
       "    </tr>\n",
       "    <tr>\n",
       "      <th>75%</th>\n",
       "      <td>6.590000</td>\n",
       "      <td>0.000000</td>\n",
       "    </tr>\n",
       "    <tr>\n",
       "      <th>max</th>\n",
       "      <td>62.300000</td>\n",
       "      <td>1.000000</td>\n",
       "    </tr>\n",
       "  </tbody>\n",
       "</table>\n",
       "</div>"
      ],
      "text/plain": [
       "       transaction_amount   fraud_flag\n",
       "count         1743.000000  1743.000000\n",
       "mean             8.327040     0.026391\n",
       "std              5.127765     0.160342\n",
       "min              6.590000     0.000000\n",
       "25%              6.590000     0.000000\n",
       "50%              6.590000     0.000000\n",
       "75%              6.590000     0.000000\n",
       "max             62.300000     1.000000"
      ]
     },
     "execution_count": 5,
     "metadata": {},
     "output_type": "execute_result"
    }
   ],
   "source": [
    "df.describe()"
   ]
  },
  {
   "cell_type": "code",
   "execution_count": 6,
   "id": "780c4024",
   "metadata": {},
   "outputs": [
    {
     "data": {
      "text/plain": [
       "Index(['transaction_id', 'transaction_date', 'card_number', 'card_type',\n",
       "       'merchant_name', 'merchant_category', 'merchant_state', 'merchant_city',\n",
       "       'transaction_status', 'transaction_amount', 'merchant_category_code',\n",
       "       'fraud_flag', 'cardholder_name', 'items', 'prices'],\n",
       "      dtype='object')"
      ]
     },
     "execution_count": 6,
     "metadata": {},
     "output_type": "execute_result"
    }
   ],
   "source": [
    "df.columns"
   ]
  },
  {
   "cell_type": "markdown",
   "id": "8b2d9e7f",
   "metadata": {},
   "source": [
    "Using the Counter method to analyze the distirbution in fraudulent and legitimate transactions, where fraud has a label of 1 and a legitimate transaction is 0"
   ]
  },
  {
   "cell_type": "code",
   "execution_count": 7,
   "id": "f7f1bf3c",
   "metadata": {},
   "outputs": [
    {
     "name": "stdout",
     "output_type": "stream",
     "text": [
      "Counter({0: 1697, 1: 46})\n"
     ]
    }
   ],
   "source": [
    "print(Counter(df['fraud_flag']))"
   ]
  },
  {
   "cell_type": "code",
   "execution_count": 8,
   "id": "e0158372",
   "metadata": {},
   "outputs": [],
   "source": [
    "# convert the categorical columns\n",
    "\n",
    "df['merchant_state'] = df['merchant_state'].astype('category')\n",
    "df['merchant_state_code'] = df['merchant_state'].cat.codes\n",
    "\n",
    "df['merchant_city'] = df['merchant_city'].astype('category')\n",
    "df['merchant_city_code'] = df['merchant_city'].cat.codes\n",
    "\n",
    "\n",
    "df['card_type'] = df['card_type'].astype('category')\n",
    "df['card_type_code'] = df['card_type'].cat.codes\n",
    "\n",
    "\n",
    "df['cardholder_name'] = df['cardholder_name'].astype('category')\n",
    "df['cardholder_name_code'] = df['cardholder_name'].cat.codes"
   ]
  },
  {
   "cell_type": "code",
   "execution_count": 9,
   "id": "96e21eba",
   "metadata": {},
   "outputs": [],
   "source": [
    "import ast\n",
    "number_of_items = [len(ast.literal_eval(x)) for x in list(df['items'])]\n",
    "\n",
    "df['number_of_items'] = number_of_items"
   ]
  },
  {
   "cell_type": "markdown",
   "id": "e78435a0",
   "metadata": {},
   "source": [
    "I will use Z-scores to filter outliers in transaction_amount values. Here I will define an outlier as any data point that falls 3 or more standard deviations from the mean\n"
   ]
  },
  {
   "cell_type": "code",
   "execution_count": 10,
   "id": "c6209a29",
   "metadata": {},
   "outputs": [
    {
     "data": {
      "text/html": [
       "<div>\n",
       "<style scoped>\n",
       "    .dataframe tbody tr th:only-of-type {\n",
       "        vertical-align: middle;\n",
       "    }\n",
       "\n",
       "    .dataframe tbody tr th {\n",
       "        vertical-align: top;\n",
       "    }\n",
       "\n",
       "    .dataframe thead th {\n",
       "        text-align: right;\n",
       "    }\n",
       "</style>\n",
       "<table border=\"1\" class=\"dataframe\">\n",
       "  <thead>\n",
       "    <tr style=\"text-align: right;\">\n",
       "      <th></th>\n",
       "      <th>transaction_id</th>\n",
       "      <th>transaction_date</th>\n",
       "      <th>card_number</th>\n",
       "      <th>card_type</th>\n",
       "      <th>merchant_name</th>\n",
       "      <th>merchant_category</th>\n",
       "      <th>merchant_state</th>\n",
       "      <th>merchant_city</th>\n",
       "      <th>transaction_status</th>\n",
       "      <th>transaction_amount</th>\n",
       "      <th>merchant_category_code</th>\n",
       "      <th>fraud_flag</th>\n",
       "      <th>cardholder_name</th>\n",
       "      <th>items</th>\n",
       "      <th>prices</th>\n",
       "      <th>merchant_state_code</th>\n",
       "      <th>merchant_city_code</th>\n",
       "      <th>card_type_code</th>\n",
       "      <th>cardholder_name_code</th>\n",
       "      <th>number_of_items</th>\n",
       "    </tr>\n",
       "  </thead>\n",
       "  <tbody>\n",
       "    <tr>\n",
       "      <th>0</th>\n",
       "      <td>1ANBFI-TOFZ-J1FHXR</td>\n",
       "      <td>2023-02-17 07:16</td>\n",
       "      <td>4318249446099857</td>\n",
       "      <td>visa</td>\n",
       "      <td>Subway</td>\n",
       "      <td>Fast Food</td>\n",
       "      <td>New Hampshire</td>\n",
       "      <td>Manchester</td>\n",
       "      <td>Declined</td>\n",
       "      <td>6.59</td>\n",
       "      <td>MCC 5814</td>\n",
       "      <td>0</td>\n",
       "      <td>James Lee</td>\n",
       "      <td>['Italian BMT']</td>\n",
       "      <td>[6.59]</td>\n",
       "      <td>28</td>\n",
       "      <td>53</td>\n",
       "      <td>3</td>\n",
       "      <td>116</td>\n",
       "      <td>1</td>\n",
       "    </tr>\n",
       "    <tr>\n",
       "      <th>1</th>\n",
       "      <td>UIF4NV-FC9E-XKCNBG</td>\n",
       "      <td>2023-03-22 17:22</td>\n",
       "      <td>4101211350337682</td>\n",
       "      <td>visa</td>\n",
       "      <td>Subway</td>\n",
       "      <td>Fast Food</td>\n",
       "      <td>New Hampshire</td>\n",
       "      <td>Nashua</td>\n",
       "      <td>Declined</td>\n",
       "      <td>6.59</td>\n",
       "      <td>MCC 5814</td>\n",
       "      <td>0</td>\n",
       "      <td>Gabriella Hicks</td>\n",
       "      <td>['Italian BMT']</td>\n",
       "      <td>[6.59]</td>\n",
       "      <td>28</td>\n",
       "      <td>60</td>\n",
       "      <td>3</td>\n",
       "      <td>100</td>\n",
       "      <td>1</td>\n",
       "    </tr>\n",
       "    <tr>\n",
       "      <th>2</th>\n",
       "      <td>75UXRX-LGYI-JC802K</td>\n",
       "      <td>2023-06-14 16:49</td>\n",
       "      <td>4436281502955562</td>\n",
       "      <td>visa</td>\n",
       "      <td>Subway</td>\n",
       "      <td>Fast Food</td>\n",
       "      <td>Maine</td>\n",
       "      <td>Lewiston</td>\n",
       "      <td>Successful</td>\n",
       "      <td>6.59</td>\n",
       "      <td>MCC 5814</td>\n",
       "      <td>0</td>\n",
       "      <td>Mr. Eduardo Ford</td>\n",
       "      <td>['Italian BMT']</td>\n",
       "      <td>[6.59]</td>\n",
       "      <td>18</td>\n",
       "      <td>46</td>\n",
       "      <td>3</td>\n",
       "      <td>213</td>\n",
       "      <td>1</td>\n",
       "    </tr>\n",
       "    <tr>\n",
       "      <th>3</th>\n",
       "      <td>3D1LES-NSWC-UGGOMS</td>\n",
       "      <td>2023-03-23 07:13</td>\n",
       "      <td>4426321457580551</td>\n",
       "      <td>visa</td>\n",
       "      <td>Subway</td>\n",
       "      <td>Fast Food</td>\n",
       "      <td>Georgia</td>\n",
       "      <td>Augusta</td>\n",
       "      <td>Declined</td>\n",
       "      <td>13.08</td>\n",
       "      <td>MCC 5814</td>\n",
       "      <td>0</td>\n",
       "      <td>Justin Francis</td>\n",
       "      <td>['Italian BMT', 'Oven Roasted Chicken']</td>\n",
       "      <td>[6.59, 6.49]</td>\n",
       "      <td>9</td>\n",
       "      <td>3</td>\n",
       "      <td>3</td>\n",
       "      <td>148</td>\n",
       "      <td>2</td>\n",
       "    </tr>\n",
       "    <tr>\n",
       "      <th>4</th>\n",
       "      <td>8G8LEE-313G-XFTWHT</td>\n",
       "      <td>2023-03-13 22:42</td>\n",
       "      <td>4947626214893547</td>\n",
       "      <td>visa</td>\n",
       "      <td>Subway</td>\n",
       "      <td>Fast Food</td>\n",
       "      <td>New Hampshire</td>\n",
       "      <td>Nashua</td>\n",
       "      <td>Pending</td>\n",
       "      <td>6.59</td>\n",
       "      <td>MCC 5814</td>\n",
       "      <td>0</td>\n",
       "      <td>Sara Reese</td>\n",
       "      <td>['Italian BMT']</td>\n",
       "      <td>[6.59]</td>\n",
       "      <td>28</td>\n",
       "      <td>60</td>\n",
       "      <td>3</td>\n",
       "      <td>255</td>\n",
       "      <td>1</td>\n",
       "    </tr>\n",
       "    <tr>\n",
       "      <th>...</th>\n",
       "      <td>...</td>\n",
       "      <td>...</td>\n",
       "      <td>...</td>\n",
       "      <td>...</td>\n",
       "      <td>...</td>\n",
       "      <td>...</td>\n",
       "      <td>...</td>\n",
       "      <td>...</td>\n",
       "      <td>...</td>\n",
       "      <td>...</td>\n",
       "      <td>...</td>\n",
       "      <td>...</td>\n",
       "      <td>...</td>\n",
       "      <td>...</td>\n",
       "      <td>...</td>\n",
       "      <td>...</td>\n",
       "      <td>...</td>\n",
       "      <td>...</td>\n",
       "      <td>...</td>\n",
       "      <td>...</td>\n",
       "    </tr>\n",
       "    <tr>\n",
       "      <th>1738</th>\n",
       "      <td>IZ03FL-9QC6-7HGODT</td>\n",
       "      <td>2023-04-23 05:15</td>\n",
       "      <td>6011364363299557</td>\n",
       "      <td>discover</td>\n",
       "      <td>Subway</td>\n",
       "      <td>Fast Food</td>\n",
       "      <td>Kentucky</td>\n",
       "      <td>Lexington</td>\n",
       "      <td>Successful</td>\n",
       "      <td>6.59</td>\n",
       "      <td>MCC 5814</td>\n",
       "      <td>0</td>\n",
       "      <td>Ashley Owens</td>\n",
       "      <td>['Italian BMT']</td>\n",
       "      <td>[6.59]</td>\n",
       "      <td>16</td>\n",
       "      <td>47</td>\n",
       "      <td>1</td>\n",
       "      <td>33</td>\n",
       "      <td>1</td>\n",
       "    </tr>\n",
       "    <tr>\n",
       "      <th>1739</th>\n",
       "      <td>75VXBE-L7JZ-4P45BB</td>\n",
       "      <td>2022-07-02 23:55</td>\n",
       "      <td>6557511708204946</td>\n",
       "      <td>discover</td>\n",
       "      <td>Subway</td>\n",
       "      <td>Fast Food</td>\n",
       "      <td>Pennsylvania</td>\n",
       "      <td>Pittsburgh</td>\n",
       "      <td>Pending</td>\n",
       "      <td>13.08</td>\n",
       "      <td>MCC 5814</td>\n",
       "      <td>0</td>\n",
       "      <td>Gabriel Davis</td>\n",
       "      <td>['Italian BMT', 'Oven Roasted Chicken']</td>\n",
       "      <td>[6.59, 6.49]</td>\n",
       "      <td>37</td>\n",
       "      <td>74</td>\n",
       "      <td>1</td>\n",
       "      <td>99</td>\n",
       "      <td>2</td>\n",
       "    </tr>\n",
       "    <tr>\n",
       "      <th>1740</th>\n",
       "      <td>0E6LZT-76LT-882JBU</td>\n",
       "      <td>2021-05-08 21:14</td>\n",
       "      <td>6011361329927008</td>\n",
       "      <td>discover</td>\n",
       "      <td>Subway</td>\n",
       "      <td>Fast Food</td>\n",
       "      <td>Colorado</td>\n",
       "      <td>Denver</td>\n",
       "      <td>Successful</td>\n",
       "      <td>6.59</td>\n",
       "      <td>MCC 5814</td>\n",
       "      <td>0</td>\n",
       "      <td>Danielle Hammond</td>\n",
       "      <td>['Italian BMT']</td>\n",
       "      <td>[6.59]</td>\n",
       "      <td>5</td>\n",
       "      <td>24</td>\n",
       "      <td>1</td>\n",
       "      <td>77</td>\n",
       "      <td>1</td>\n",
       "    </tr>\n",
       "    <tr>\n",
       "      <th>1741</th>\n",
       "      <td>LO6R00-IIAW-PDBS6T</td>\n",
       "      <td>2020-02-04 18:23</td>\n",
       "      <td>6011446757183347</td>\n",
       "      <td>discover</td>\n",
       "      <td>Subway</td>\n",
       "      <td>Fast Food</td>\n",
       "      <td>New Mexico</td>\n",
       "      <td>Albuquerque</td>\n",
       "      <td>Successful</td>\n",
       "      <td>6.59</td>\n",
       "      <td>MCC 5814</td>\n",
       "      <td>0</td>\n",
       "      <td>Ashley Owens</td>\n",
       "      <td>['Italian BMT']</td>\n",
       "      <td>[6.59]</td>\n",
       "      <td>30</td>\n",
       "      <td>0</td>\n",
       "      <td>1</td>\n",
       "      <td>33</td>\n",
       "      <td>1</td>\n",
       "    </tr>\n",
       "    <tr>\n",
       "      <th>1742</th>\n",
       "      <td>QMUW0T-BRTC-OFT57W</td>\n",
       "      <td>2021-09-11 14:22</td>\n",
       "      <td>6512486381937274</td>\n",
       "      <td>discover</td>\n",
       "      <td>Subway</td>\n",
       "      <td>Fast Food</td>\n",
       "      <td>Wisconsin</td>\n",
       "      <td>Milwaukee</td>\n",
       "      <td>Pending</td>\n",
       "      <td>6.59</td>\n",
       "      <td>MCC 5814</td>\n",
       "      <td>0</td>\n",
       "      <td>Gabriel Davis</td>\n",
       "      <td>['Italian BMT']</td>\n",
       "      <td>[6.59]</td>\n",
       "      <td>48</td>\n",
       "      <td>55</td>\n",
       "      <td>1</td>\n",
       "      <td>99</td>\n",
       "      <td>1</td>\n",
       "    </tr>\n",
       "  </tbody>\n",
       "</table>\n",
       "<p>1695 rows × 20 columns</p>\n",
       "</div>"
      ],
      "text/plain": [
       "          transaction_id  transaction_date       card_number card_type  \\\n",
       "0     1ANBFI-TOFZ-J1FHXR  2023-02-17 07:16  4318249446099857      visa   \n",
       "1     UIF4NV-FC9E-XKCNBG  2023-03-22 17:22  4101211350337682      visa   \n",
       "2     75UXRX-LGYI-JC802K  2023-06-14 16:49  4436281502955562      visa   \n",
       "3     3D1LES-NSWC-UGGOMS  2023-03-23 07:13  4426321457580551      visa   \n",
       "4     8G8LEE-313G-XFTWHT  2023-03-13 22:42  4947626214893547      visa   \n",
       "...                  ...               ...               ...       ...   \n",
       "1738  IZ03FL-9QC6-7HGODT  2023-04-23 05:15  6011364363299557  discover   \n",
       "1739  75VXBE-L7JZ-4P45BB  2022-07-02 23:55  6557511708204946  discover   \n",
       "1740  0E6LZT-76LT-882JBU  2021-05-08 21:14  6011361329927008  discover   \n",
       "1741  LO6R00-IIAW-PDBS6T  2020-02-04 18:23  6011446757183347  discover   \n",
       "1742  QMUW0T-BRTC-OFT57W  2021-09-11 14:22  6512486381937274  discover   \n",
       "\n",
       "     merchant_name merchant_category merchant_state merchant_city  \\\n",
       "0           Subway         Fast Food  New Hampshire    Manchester   \n",
       "1           Subway         Fast Food  New Hampshire        Nashua   \n",
       "2           Subway         Fast Food          Maine      Lewiston   \n",
       "3           Subway         Fast Food        Georgia       Augusta   \n",
       "4           Subway         Fast Food  New Hampshire        Nashua   \n",
       "...            ...               ...            ...           ...   \n",
       "1738        Subway         Fast Food       Kentucky     Lexington   \n",
       "1739        Subway         Fast Food   Pennsylvania    Pittsburgh   \n",
       "1740        Subway         Fast Food       Colorado        Denver   \n",
       "1741        Subway         Fast Food     New Mexico   Albuquerque   \n",
       "1742        Subway         Fast Food      Wisconsin     Milwaukee   \n",
       "\n",
       "     transaction_status  transaction_amount merchant_category_code  \\\n",
       "0              Declined                6.59               MCC 5814   \n",
       "1              Declined                6.59               MCC 5814   \n",
       "2            Successful                6.59               MCC 5814   \n",
       "3              Declined               13.08               MCC 5814   \n",
       "4               Pending                6.59               MCC 5814   \n",
       "...                 ...                 ...                    ...   \n",
       "1738         Successful                6.59               MCC 5814   \n",
       "1739            Pending               13.08               MCC 5814   \n",
       "1740         Successful                6.59               MCC 5814   \n",
       "1741         Successful                6.59               MCC 5814   \n",
       "1742            Pending                6.59               MCC 5814   \n",
       "\n",
       "      fraud_flag   cardholder_name                                    items  \\\n",
       "0              0         James Lee                          ['Italian BMT']   \n",
       "1              0   Gabriella Hicks                          ['Italian BMT']   \n",
       "2              0  Mr. Eduardo Ford                          ['Italian BMT']   \n",
       "3              0    Justin Francis  ['Italian BMT', 'Oven Roasted Chicken']   \n",
       "4              0        Sara Reese                          ['Italian BMT']   \n",
       "...          ...               ...                                      ...   \n",
       "1738           0      Ashley Owens                          ['Italian BMT']   \n",
       "1739           0     Gabriel Davis  ['Italian BMT', 'Oven Roasted Chicken']   \n",
       "1740           0  Danielle Hammond                          ['Italian BMT']   \n",
       "1741           0      Ashley Owens                          ['Italian BMT']   \n",
       "1742           0     Gabriel Davis                          ['Italian BMT']   \n",
       "\n",
       "            prices  merchant_state_code  merchant_city_code  card_type_code  \\\n",
       "0           [6.59]                   28                  53               3   \n",
       "1           [6.59]                   28                  60               3   \n",
       "2           [6.59]                   18                  46               3   \n",
       "3     [6.59, 6.49]                    9                   3               3   \n",
       "4           [6.59]                   28                  60               3   \n",
       "...            ...                  ...                 ...             ...   \n",
       "1738        [6.59]                   16                  47               1   \n",
       "1739  [6.59, 6.49]                   37                  74               1   \n",
       "1740        [6.59]                    5                  24               1   \n",
       "1741        [6.59]                   30                   0               1   \n",
       "1742        [6.59]                   48                  55               1   \n",
       "\n",
       "      cardholder_name_code  number_of_items  \n",
       "0                      116                1  \n",
       "1                      100                1  \n",
       "2                      213                1  \n",
       "3                      148                2  \n",
       "4                      255                1  \n",
       "...                    ...              ...  \n",
       "1738                    33                1  \n",
       "1739                    99                2  \n",
       "1740                    77                1  \n",
       "1741                    33                1  \n",
       "1742                    99                1  \n",
       "\n",
       "[1695 rows x 20 columns]"
      ]
     },
     "execution_count": 10,
     "metadata": {},
     "output_type": "execute_result"
    }
   ],
   "source": [
    "#remove outliers\n",
    "\n",
    "threshold = 3\n",
    "z_scores = np.abs(stats.zscore(df['transaction_amount']))\n",
    "df_no_outliers = df[(z_scores < threshold)]\n",
    "df_no_outliers"
   ]
  },
  {
   "cell_type": "code",
   "execution_count": 11,
   "id": "6183620d",
   "metadata": {},
   "outputs": [],
   "source": [
    "# we will define our features and targets. list of features and the fraud_flag column as our target\n",
    "\n",
    "X  = ['merchant_state_code','merchant_city_code', 'card_type_code','cardholder_name_code',\n",
    "             'transaction_amount', 'number_of_items']\n",
    "y = 'fraud_flag'"
   ]
  },
  {
   "cell_type": "code",
   "execution_count": 12,
   "id": "c1d3d4c5",
   "metadata": {},
   "outputs": [],
   "source": [
    "features = df_no_outliers[X]\n",
    "\n",
    "targets = df_no_outliers[y]"
   ]
  },
  {
   "cell_type": "code",
   "execution_count": 13,
   "id": "b81e835c",
   "metadata": {},
   "outputs": [
    {
     "data": {
      "text/html": [
       "<div>\n",
       "<style scoped>\n",
       "    .dataframe tbody tr th:only-of-type {\n",
       "        vertical-align: middle;\n",
       "    }\n",
       "\n",
       "    .dataframe tbody tr th {\n",
       "        vertical-align: top;\n",
       "    }\n",
       "\n",
       "    .dataframe thead th {\n",
       "        text-align: right;\n",
       "    }\n",
       "</style>\n",
       "<table border=\"1\" class=\"dataframe\">\n",
       "  <thead>\n",
       "    <tr style=\"text-align: right;\">\n",
       "      <th></th>\n",
       "      <th>merchant_state_code</th>\n",
       "      <th>merchant_city_code</th>\n",
       "      <th>card_type_code</th>\n",
       "      <th>cardholder_name_code</th>\n",
       "      <th>transaction_amount</th>\n",
       "      <th>number_of_items</th>\n",
       "    </tr>\n",
       "  </thead>\n",
       "  <tbody>\n",
       "    <tr>\n",
       "      <th>0</th>\n",
       "      <td>28</td>\n",
       "      <td>53</td>\n",
       "      <td>3</td>\n",
       "      <td>116</td>\n",
       "      <td>6.59</td>\n",
       "      <td>1</td>\n",
       "    </tr>\n",
       "    <tr>\n",
       "      <th>1</th>\n",
       "      <td>28</td>\n",
       "      <td>60</td>\n",
       "      <td>3</td>\n",
       "      <td>100</td>\n",
       "      <td>6.59</td>\n",
       "      <td>1</td>\n",
       "    </tr>\n",
       "    <tr>\n",
       "      <th>2</th>\n",
       "      <td>18</td>\n",
       "      <td>46</td>\n",
       "      <td>3</td>\n",
       "      <td>213</td>\n",
       "      <td>6.59</td>\n",
       "      <td>1</td>\n",
       "    </tr>\n",
       "    <tr>\n",
       "      <th>3</th>\n",
       "      <td>9</td>\n",
       "      <td>3</td>\n",
       "      <td>3</td>\n",
       "      <td>148</td>\n",
       "      <td>13.08</td>\n",
       "      <td>2</td>\n",
       "    </tr>\n",
       "    <tr>\n",
       "      <th>4</th>\n",
       "      <td>28</td>\n",
       "      <td>60</td>\n",
       "      <td>3</td>\n",
       "      <td>255</td>\n",
       "      <td>6.59</td>\n",
       "      <td>1</td>\n",
       "    </tr>\n",
       "  </tbody>\n",
       "</table>\n",
       "</div>"
      ],
      "text/plain": [
       "   merchant_state_code  merchant_city_code  card_type_code  \\\n",
       "0                   28                  53               3   \n",
       "1                   28                  60               3   \n",
       "2                   18                  46               3   \n",
       "3                    9                   3               3   \n",
       "4                   28                  60               3   \n",
       "\n",
       "   cardholder_name_code  transaction_amount  number_of_items  \n",
       "0                   116                6.59                1  \n",
       "1                   100                6.59                1  \n",
       "2                   213                6.59                1  \n",
       "3                   148               13.08                2  \n",
       "4                   255                6.59                1  "
      ]
     },
     "execution_count": 13,
     "metadata": {},
     "output_type": "execute_result"
    }
   ],
   "source": [
    "features.head(5)\n"
   ]
  },
  {
   "cell_type": "code",
   "execution_count": 14,
   "id": "670431b8",
   "metadata": {},
   "outputs": [
    {
     "data": {
      "text/plain": [
       "0    0\n",
       "1    0\n",
       "2    0\n",
       "3    0\n",
       "4    0\n",
       "Name: fraud_flag, dtype: int64"
      ]
     },
     "execution_count": 14,
     "metadata": {},
     "output_type": "execute_result"
    }
   ],
   "source": [
    "targets.head(5)"
   ]
  },
  {
   "cell_type": "markdown",
   "id": "9df8148b",
   "metadata": {},
   "source": [
    "## Building the model\n",
    "\n",
    "**Using the random forest classification class**\n",
    "\n",
    "I will this use to define our random forest model, the train/test split module which I will use to split data for training and testing, and the GridSearchCV method which I will use to perform our hyperparameter search"
   ]
  },
  {
   "cell_type": "code",
   "execution_count": 15,
   "id": "b2996c02",
   "metadata": {},
   "outputs": [],
   "source": [
    "from sklearn.ensemble import RandomForestClassifier\n",
    "from sklearn.model_selection import GridSearchCV, train_test_split\n",
    "from sklearn.datasets import load_iris"
   ]
  },
  {
   "cell_type": "markdown",
   "id": "e61aa091",
   "metadata": {},
   "source": [
    " **I will define the grid I will use to perform our hyperparameter search.**\n",
    "\n",
    "I will define a range of estimators, which are the number of individual decision trees used to construct the random forest, as 20–100 estimators, with an increment value of 20.\n",
    "\n",
    "I will define the range of max depth values for each decision tree, which is the maximum number of nodes from the root of the decision tree to the farthest leaf, as 5–20 in increments of 5:"
   ]
  },
  {
   "cell_type": "code",
   "execution_count": 16,
   "id": "4c9b3654",
   "metadata": {},
   "outputs": [],
   "source": [
    "n_estimators_range = np.arange(20, 100, 20)\n",
    "max_depth_range = np.arange(5, 30, 5)\n",
    "param_grid = {\n",
    "    'n_estimators': n_estimators_range,\n",
    "    'max_depth': max_depth_range,\n",
    "}"
   ]
  },
  {
   "cell_type": "markdown",
   "id": "66b58f67",
   "metadata": {},
   "source": [
    "I will do is define our random forest classifier model object. I will also set a value for the random state which will ensure that our results are reproducible"
   ]
  },
  {
   "cell_type": "code",
   "execution_count": 17,
   "id": "0be827e0",
   "metadata": {},
   "outputs": [],
   "source": [
    "rf_classifier = RandomForestClassifier(random_state=64)"
   ]
  },
  {
   "cell_type": "markdown",
   "id": "e063cc84",
   "metadata": {},
   "source": [
    "I will then split the data for training and testing. I will set a value for random_state to ensure reproducibility, and define the test size as a randomized 20% of the data. The remaining 80% will be used for training"
   ]
  },
  {
   "cell_type": "code",
   "execution_count": 18,
   "id": "c018dc29",
   "metadata": {},
   "outputs": [],
   "source": [
    "X_train, X_test, y_train, y_test = train_test_split(features, targets, random_state=128, test_size = 0.2)"
   ]
  },
  {
   "cell_type": "markdown",
   "id": "c34035b7",
   "metadata": {},
   "source": [
    "I will perform a random forest hyperparameter grid search, select the best performing model (based on within sample cross-validation), and generate predictions on the test set.\n",
    "\n",
    "I will calling the **GridSearchCV** method with our random forest model object **rf_classifier**; **param_grid**. The number of folders for the cross validation as 5, and \"precision\" as our scoring metric for hyperparameter selection"
   ]
  },
  {
   "cell_type": "code",
   "execution_count": 19,
   "id": "2e494a14",
   "metadata": {},
   "outputs": [],
   "source": [
    "grid_search = GridSearchCV(estimator=rf_classifier, param_grid=param_grid, cv=5, scoring='precision')"
   ]
  },
  {
   "cell_type": "code",
   "execution_count": 20,
   "id": "06d0cfd5",
   "metadata": {},
   "outputs": [
    {
     "data": {
      "text/plain": [
       "GridSearchCV(cv=5, estimator=RandomForestClassifier(random_state=64),\n",
       "             param_grid={'max_depth': array([ 5, 10, 15, 20, 25]),\n",
       "                         'n_estimators': array([20, 40, 60, 80])},\n",
       "             scoring='precision')"
      ]
     },
     "execution_count": 20,
     "metadata": {},
     "output_type": "execute_result"
    }
   ],
   "source": [
    "# I will then perform the grid search using the training data: \n",
    "\n",
    "grid_search.fit(X_train, y_train)"
   ]
  },
  {
   "cell_type": "code",
   "execution_count": 21,
   "id": "8282d225",
   "metadata": {},
   "outputs": [
    {
     "data": {
      "text/plain": [
       "RandomForestClassifier(max_depth=5, n_estimators=20, random_state=64)"
      ]
     },
     "execution_count": 21,
     "metadata": {},
     "output_type": "execute_result"
    }
   ],
   "source": [
    "# The best set of hyperparameters:\n",
    "\n",
    "best_rf_model = grid_search.best_estimator_\n",
    "best_rf_model"
   ]
  },
  {
   "cell_type": "code",
   "execution_count": 22,
   "id": "d440c1b7",
   "metadata": {},
   "outputs": [
    {
     "data": {
      "text/plain": [
       "array([0, 0, 0, 0, 0, 0, 0, 0, 0, 0, 0, 0, 0, 0, 0, 0, 0, 0, 0, 0, 0, 0,\n",
       "       0, 0, 0, 0, 0, 0, 0, 0, 0, 0, 0, 0, 0, 0, 0, 0, 0, 0, 0, 0, 0, 0,\n",
       "       0, 0, 0, 0, 0, 0, 0, 0, 0, 0, 0, 0, 0, 0, 0, 0, 0, 0, 0, 0, 0, 0,\n",
       "       0, 0, 0, 0, 0, 0, 0, 0, 0, 0, 0, 0, 0, 0, 0, 0, 0, 0, 0, 0, 0, 0,\n",
       "       0, 0, 0, 0, 0, 0, 0, 0, 0, 0, 0, 0, 0, 0, 0, 0, 0, 0, 0, 0, 0, 0,\n",
       "       0, 0, 0, 0, 0, 0, 0, 0, 0, 0, 0, 0, 0, 0, 0, 0, 0, 0, 0, 0, 0, 0,\n",
       "       0, 0, 0, 0, 0, 0, 0, 0, 0, 0, 0, 0, 0, 0, 0, 0, 0, 0, 0, 0, 0, 0,\n",
       "       0, 0, 0, 0, 0, 0, 0, 0, 0, 0, 0, 0, 0, 0, 0, 0, 0, 0, 0, 0, 0, 0,\n",
       "       0, 0, 0, 0, 0, 0, 0, 0, 0, 0, 0, 0, 0, 0, 0, 0, 0, 0, 0, 0, 0, 0,\n",
       "       0, 0, 0, 0, 0, 0, 0, 0, 0, 0, 0, 0, 0, 0, 0, 0, 0, 1, 0, 0, 0, 0,\n",
       "       0, 0, 0, 0, 0, 0, 0, 0, 0, 0, 0, 0, 0, 0, 0, 0, 0, 0, 0, 0, 0, 0,\n",
       "       0, 0, 0, 0, 0, 0, 0, 0, 0, 0, 0, 0, 0, 0, 0, 0, 0, 0, 0, 0, 0, 0,\n",
       "       0, 0, 0, 0, 0, 0, 0, 0, 0, 0, 0, 0, 0, 0, 0, 0, 0, 0, 0, 0, 0, 0,\n",
       "       0, 0, 0, 0, 0, 0, 0, 0, 0, 0, 0, 0, 0, 0, 0, 0, 0, 0, 0, 0, 0, 0,\n",
       "       0, 0, 0, 0, 0, 0, 0, 0, 0, 0, 0, 0, 0, 0, 0, 0, 0, 0, 0, 0, 0, 0,\n",
       "       0, 0, 0, 0, 0, 0, 0, 0, 0], dtype=int64)"
      ]
     },
     "execution_count": 22,
     "metadata": {},
     "output_type": "execute_result"
    }
   ],
   "source": [
    "# Optimal model has been defined and predictions were made on the test set\n",
    "y_pred = best_rf_model.predict(X_test)\n",
    "y_pred"
   ]
  },
  {
   "cell_type": "markdown",
   "id": "c905cc76",
   "metadata": {},
   "source": [
    "## Evaluate the model"
   ]
  },
  {
   "cell_type": "code",
   "execution_count": 23,
   "id": "60168273",
   "metadata": {},
   "outputs": [
    {
     "name": "stderr",
     "output_type": "stream",
     "text": [
      "C:\\Users\\arich\\AppData\\Local\\Temp/ipykernel_26164/2625275825.py:2: SettingWithCopyWarning: \n",
      "A value is trying to be set on a copy of a slice from a DataFrame.\n",
      "Try using .loc[row_indexer,col_indexer] = value instead\n",
      "\n",
      "See the caveats in the documentation: https://pandas.pydata.org/pandas-docs/stable/user_guide/indexing.html#returning-a-view-versus-a-copy\n",
      "  validation_data['actual'] = y_test\n",
      "C:\\Users\\arich\\AppData\\Local\\Temp/ipykernel_26164/2625275825.py:3: SettingWithCopyWarning: \n",
      "A value is trying to be set on a copy of a slice from a DataFrame.\n",
      "Try using .loc[row_indexer,col_indexer] = value instead\n",
      "\n",
      "See the caveats in the documentation: https://pandas.pydata.org/pandas-docs/stable/user_guide/indexing.html#returning-a-view-versus-a-copy\n",
      "  validation_data['predicted'] = y_pred\n"
     ]
    }
   ],
   "source": [
    "validation_data = X_test\n",
    "validation_data['actual'] = y_test\n",
    "validation_data['predicted'] = y_pred"
   ]
  },
  {
   "cell_type": "code",
   "execution_count": 24,
   "id": "a40331c6",
   "metadata": {},
   "outputs": [
    {
     "name": "stdout",
     "output_type": "stream",
     "text": [
      "612     0\n",
      "885     0\n",
      "820     0\n",
      "670     0\n",
      "1308    0\n",
      "Name: actual, dtype: int64\n",
      "612     0\n",
      "885     0\n",
      "820     0\n",
      "670     0\n",
      "1308    0\n",
      "Name: predicted, dtype: int64\n"
     ]
    }
   ],
   "source": [
    "#store the actual and predicticted values in variables called actual and predicted\n",
    "\n",
    "actual, predicted = validation_data['actual'], validation_data['predicted']\n",
    "\n",
    "print(actual.head())\n",
    "\n",
    "print(predicted.head())"
   ]
  },
  {
   "cell_type": "code",
   "execution_count": 25,
   "id": "72dbc8b6",
   "metadata": {},
   "outputs": [
    {
     "name": "stdout",
     "output_type": "stream",
     "text": [
      "precision:  1.0\n"
     ]
    }
   ],
   "source": [
    "from sklearn.metrics import precision_score, recall_score, accuracy_score, f1_score\n",
    "precision = precision_score(actual, predicted)\n",
    "print(\"precision: \", precision)\n",
    "\n",
    "# A precision score of 1 means that every transaction predicted as fraudulent by the model was indeed a fraudulent transaction."
   ]
  },
  {
   "cell_type": "code",
   "execution_count": 26,
   "id": "868a80da",
   "metadata": {},
   "outputs": [
    {
     "name": "stdout",
     "output_type": "stream",
     "text": [
      "accuracy:  0.9793510324483776\n"
     ]
    }
   ],
   "source": [
    "accuracy = accuracy_score(actual, predicted)\n",
    "print(\"accuracy: \", accuracy)\n",
    "\n",
    "# A value of 0.979 for precision. This means that 97.9% of predictions were correct. \n",
    "# This is deceptively high and should not be interpeted in isolation due to the fact that most of the transations are legitimate."
   ]
  },
  {
   "cell_type": "code",
   "execution_count": 27,
   "id": "dd8cac13",
   "metadata": {},
   "outputs": [
    {
     "name": "stdout",
     "output_type": "stream",
     "text": [
      "recall:  0.125\n"
     ]
    }
   ],
   "source": [
    "recall = recall_score(actual, predicted)\n",
    "print(\"recall: \", recall)\n",
    "\n",
    "# A recall score of 0.125 means that the model is only capturing 12.5% of the total fraudulent transactions.\n",
    "# The remaining 87.5% of fraudulent transactions are being missed (classified as false negatives)."
   ]
  },
  {
   "cell_type": "code",
   "execution_count": 28,
   "id": "68f3bb97",
   "metadata": {},
   "outputs": [
    {
     "name": "stdout",
     "output_type": "stream",
     "text": [
      "f1_score:  0.2222222222222222\n"
     ]
    }
   ],
   "source": [
    "f1_score = f1_score(actual, predicted)\n",
    "print(\"f1_score: \", f1_score)"
   ]
  },
  {
   "cell_type": "code",
   "execution_count": null,
   "id": "31832653",
   "metadata": {},
   "outputs": [],
   "source": []
  }
 ],
 "metadata": {
  "kernelspec": {
   "display_name": "Python 3 (ipykernel)",
   "language": "python",
   "name": "python3"
  },
  "language_info": {
   "codemirror_mode": {
    "name": "ipython",
    "version": 3
   },
   "file_extension": ".py",
   "mimetype": "text/x-python",
   "name": "python",
   "nbconvert_exporter": "python",
   "pygments_lexer": "ipython3",
   "version": "3.9.7"
  }
 },
 "nbformat": 4,
 "nbformat_minor": 5
}
